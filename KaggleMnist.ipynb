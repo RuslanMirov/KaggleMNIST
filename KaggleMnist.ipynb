{
 "cells": [
  {
   "cell_type": "code",
   "execution_count": 20,
   "metadata": {},
   "outputs": [],
   "source": [
    "import numpy as np\n",
    "import keras\n",
    "from keras.datasets import mnist\n",
    "from keras.models import Sequential\n",
    "from keras.layers import Dense, Dropout, Flatten\n",
    "from keras.layers import Conv2D, MaxPooling2D\n",
    "from keras.utils import np_utils\n"
   ]
  },
  {
   "cell_type": "code",
   "execution_count": 21,
   "metadata": {
    "collapsed": true
   },
   "outputs": [],
   "source": [
    "# Устанавливаем seed для повторяемости результатов\n",
    "np.random.seed(42)\n",
    "\n",
    "TRAIN_FILE = \"train.csv\"\n",
    "TEST_FILE = \"test.csv\"\n",
    "OUTPUT_FILE = \"submission.csv\"\n",
    "num_classes = 10\n",
    "# Размер изображения\n",
    "img_rows, img_cols = 28, 28"
   ]
  },
  {
   "cell_type": "code",
   "execution_count": 22,
   "metadata": {
    "collapsed": true
   },
   "outputs": [],
   "source": [
    "# Загружаем данные\n",
    "train_dataset = np.loadtxt(TRAIN_FILE, skiprows=1, dtype='int', delimiter=\",\")\n",
    "# Выделяем данные для обучения\n",
    "x_train = train_dataset[:, 1:]\n",
    "# Переформатируем данные в 2D, бэкенд Tensorflow\n",
    "x_train = x_train.reshape(x_train.shape[0], img_rows, img_cols, 1)\n",
    "input_shape = (img_rows, img_cols, 1)\n",
    "# Нормализуем данные\n",
    "x_train = x_train.astype(\"float32\")\n",
    "x_train /= 255.0\n",
    "# Выделяем правильные ответы\n",
    "y_train = train_dataset[:, 0]\n",
    "# Преобразуем правильные ответы в категоризированное представление\n",
    "y_train = np_utils.to_categorical(y_train)"
   ]
  },
  {
   "cell_type": "code",
   "execution_count": 23,
   "metadata": {
    "collapsed": true
   },
   "outputs": [],
   "source": [
    "#Загружаем данные для предсказания\n",
    "test_dataset = np.loadtxt(TEST_FILE, skiprows=1, delimiter=\",\")\n",
    "# Переформатируем данные в 2D, бэкенд TensorFlow\n",
    "x_test = test_dataset.reshape(test_dataset.shape[0], img_rows, img_cols, 1)\n",
    "# Нормализуем данные\n",
    "x_test = x_test.astype(\"float32\")\n",
    "x_test /= 255.0\n"
   ]
  },
  {
   "cell_type": "code",
   "execution_count": 24,
   "metadata": {},
   "outputs": [
    {
     "name": "stdout",
     "output_type": "stream",
     "text": [
      "_________________________________________________________________\n",
      "Layer (type)                 Output Shape              Param #   \n",
      "=================================================================\n",
      "conv2d_9 (Conv2D)            (None, 26, 26, 32)        320       \n",
      "_________________________________________________________________\n",
      "conv2d_10 (Conv2D)           (None, 24, 24, 64)        18496     \n",
      "_________________________________________________________________\n",
      "max_pooling2d_5 (MaxPooling2 (None, 12, 12, 64)        0         \n",
      "_________________________________________________________________\n",
      "dropout_9 (Dropout)          (None, 12, 12, 64)        0         \n",
      "_________________________________________________________________\n",
      "flatten_5 (Flatten)          (None, 9216)              0         \n",
      "_________________________________________________________________\n",
      "dense_9 (Dense)              (None, 128)               1179776   \n",
      "_________________________________________________________________\n",
      "dropout_10 (Dropout)         (None, 128)               0         \n",
      "_________________________________________________________________\n",
      "dense_10 (Dense)             (None, 10)                1290      \n",
      "=================================================================\n",
      "Total params: 1,199,882\n",
      "Trainable params: 1,199,882\n",
      "Non-trainable params: 0\n",
      "_________________________________________________________________\n",
      "None\n"
     ]
    }
   ],
   "source": [
    "# Создаем модель\n",
    "\n",
    "\n",
    "model = Sequential()\n",
    "\n",
    "# Свёрточный слой\n",
    "# включает в себя для каждого канала свой фильтр, (ядро свёртки) который обрабатывает предыдущий слой по фрагментам \n",
    "# фильтр свёртки, похож на фонарик, которым можно светить в темном помещении, пытаясь найти нужные признаки\n",
    "# Весовые коэффициенты ядра свёртки (небольшой матрицы) неизвестны и устанавливаются в процессе обучения.\n",
    "\n",
    "model.add(Conv2D(32, kernel_size=(3, 3),\n",
    "                 activation='relu',\n",
    "                 input_shape=input_shape))\n",
    "#еще один такой же слой\n",
    "model.add(Conv2D(64, (3, 3), activation='relu'))\n",
    "\n",
    "# слой пулинга (иначе подвыборки, субдискретизации) представляет собой нелинейное уплотнение карты признаков\n",
    "# eсли на предыдущей операции свёртки уже были выявлены некоторые признаки, то для дальнейшей обработки \n",
    "# настолько подробное изображение уже не нужно и оно уплотняется до менее подробного. \n",
    "\n",
    "model.add(MaxPooling2D(pool_size=(2, 2)))\n",
    "\n",
    "#отключаем рандомно N количество нейронов, для предотвращения переобучения\n",
    "model.add(Dropout(0.25))\n",
    "\n",
    "#Flatten слой преобразует двумерные вектора признаков, в одномерный вектор. \n",
    "#Полносвязные слои, используемые для классификации, не могут работать с двумерными данными на входе, им нужен одномерный вектор\n",
    "model.add(Flatten())\n",
    "#Полносвязный слой\n",
    "#Полносвязная часть реализует классификацию - определяет, \n",
    "#что за объект находится на изображении на основе признаков, которые извлекла сверточная часть\n",
    "model.add(Dense(128, activation='relu'))\n",
    "#еще один DropOut чтобы не было переобучения \n",
    "model.add(Dropout(0.5))\n",
    "#Выходной слой\n",
    "model.add(Dense(num_classes, activation='softmax'))\n",
    "# Компилируем модель\n",
    "# Adadelta - популярная форма градиентного спуска, смысл которого в нахождении глобального минимума функции ошибки \n",
    "#(желаемое - полученное), которая зависит от весов\n",
    "# Если по простому, то с помощью градиентного спуска мы коректируем веса нашей сети, чем ближе к глобальному минимуму тем лучше результаты.\n",
    "# Градиентный спуск похож на альпиниста, который спускается по шагу с горы в полной темноте\n",
    "# В такой ситуации очень легко попасть в локальный минимум или пропустить глобальный минимум и пойти не в том направлении\n",
    "model.compile(loss=keras.losses.categorical_crossentropy,\n",
    "              optimizer=keras.optimizers.Adadelta(),\n",
    "              metrics=['accuracy'])\n",
    "\n",
    "\n",
    "print(model.summary())"
   ]
  },
  {
   "cell_type": "code",
   "execution_count": 25,
   "metadata": {},
   "outputs": [
    {
     "name": "stdout",
     "output_type": "stream",
     "text": [
      "Epoch 1/10\n",
      " - 114s - loss: 0.5044 - acc: 0.8462\n",
      "Epoch 2/10\n",
      " - 116s - loss: 0.1652 - acc: 0.9511\n",
      "Epoch 3/10\n",
      " - 108s - loss: 0.1168 - acc: 0.9657\n",
      "Epoch 4/10\n",
      " - 108s - loss: 0.0929 - acc: 0.9724\n",
      "Epoch 5/10\n",
      " - 114s - loss: 0.0806 - acc: 0.9757\n",
      "Epoch 6/10\n",
      " - 109s - loss: 0.0705 - acc: 0.9788\n",
      "Epoch 7/10\n",
      " - 106s - loss: 0.0651 - acc: 0.9805\n",
      "Epoch 8/10\n",
      " - 101s - loss: 0.0581 - acc: 0.9825\n",
      "Epoch 9/10\n",
      " - 104s - loss: 0.0548 - acc: 0.9827\n",
      "Epoch 10/10\n",
      " - 107s - loss: 0.0491 - acc: 0.9852\n"
     ]
    }
   ],
   "source": [
    "# Обучаем сеть\n",
    "model.fit(x_train, y_train, batch_size=200, epochs=10, verbose=2)\n",
    "\n",
    "# Предсказываем значения\n",
    "predictions = model.predict(x_test)\n",
    "# Преобразуем метки в классы\n",
    "predictions = np.argmax(predictions, axis=1)\n",
    "\n"
   ]
  },
  {
   "cell_type": "code",
   "execution_count": 26,
   "metadata": {
    "collapsed": true
   },
   "outputs": [],
   "source": [
    "# Запись в файл\n",
    "out = np.column_stack((range(1, predictions.shape[0]+1), predictions))\n",
    "np.savetxt(OUTPUT_FILE, out, header=\"ImageId,Label\", comments=\"\", fmt=\"%d,%d\")"
   ]
  },
  {
   "cell_type": "code",
   "execution_count": null,
   "metadata": {
    "collapsed": true
   },
   "outputs": [],
   "source": []
  }
 ],
 "metadata": {
  "kernelspec": {
   "display_name": "Python 3",
   "language": "python",
   "name": "python3"
  },
  "language_info": {
   "codemirror_mode": {
    "name": "ipython",
    "version": 3
   },
   "file_extension": ".py",
   "mimetype": "text/x-python",
   "name": "python",
   "nbconvert_exporter": "python",
   "pygments_lexer": "ipython3",
   "version": "3.6.3"
  }
 },
 "nbformat": 4,
 "nbformat_minor": 2
}
